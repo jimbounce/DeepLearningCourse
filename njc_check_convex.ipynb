{
  "nbformat": 4,
  "nbformat_minor": 0,
  "metadata": {
    "colab": {
      "provenance": [],
      "authorship_tag": "ABX9TyOs/bhfGjKc4valKN/fB+gO",
      "include_colab_link": true
    },
    "kernelspec": {
      "name": "python3",
      "display_name": "Python 3"
    },
    "language_info": {
      "name": "python"
    }
  },
  "cells": [
    {
      "cell_type": "markdown",
      "metadata": {
        "id": "view-in-github",
        "colab_type": "text"
      },
      "source": [
        "<a href=\"https://colab.research.google.com/github/jimbounce/DeepLearningCourse/blob/main/njc_check_convex.ipynb\" target=\"_parent\"><img src=\"https://colab.research.google.com/assets/colab-badge.svg\" alt=\"Open In Colab\"/></a>"
      ]
    },
    {
      "cell_type": "code",
      "execution_count": 18,
      "metadata": {
        "colab": {
          "base_uri": "https://localhost:8080/"
        },
        "id": "D1ZNnPar1GU4",
        "outputId": "0c9468ea-9cfd-45b3-9fe8-1098777a74d9"
      },
      "outputs": [
        {
          "output_type": "stream",
          "name": "stdout",
          "text": [
            "a= 24*x**2*y**3\n",
            "b= 24*x**3*y**2\n",
            "c= 24*x**3*y**2\n",
            "d= 12*x**4*y\n",
            "pyhess  Matrix([[24*x**2*y**3, 24*x**3*y**2], [24*x**3*y**2, 12*x**4*y]])\n",
            "Hessian is -288*x**6*y**4\n"
          ]
        }
      ],
      "source": [
        "import sympy as sy\n",
        "x, y= sy.symbols('x y')\n",
        "\n",
        "z= (2*(x**4))*(y**3)\n",
        "\n",
        "a = sy.diff(z,x,2); b= sy.diff(sy.diff(z,x),y)\n",
        "c = sy.diff(sy.diff(z,y),x) ; d =sy.diff(z,y,2)\n",
        "\n",
        "print(\"a=\", a)\n",
        "print(\"b=\", b)\n",
        "print(\"c=\", c)\n",
        "print(\"d=\", d)\n",
        "\n",
        "pyhess = sy.hessian(z,(x,y))\n",
        "print(\"pyhess \",pyhess)\n",
        "print(\"Hessian is\", (a*d)-(c*b))"
      ]
    }
  ]
}