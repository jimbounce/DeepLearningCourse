{
  "nbformat": 4,
  "nbformat_minor": 0,
  "metadata": {
    "colab": {
      "provenance": [],
      "gpuType": "T4",
      "include_colab_link": true
    },
    "kernelspec": {
      "name": "python3",
      "display_name": "Python 3"
    },
    "language_info": {
      "name": "python"
    },
    "accelerator": "GPU"
  },
  "cells": [
    {
      "cell_type": "markdown",
      "metadata": {
        "id": "view-in-github",
        "colab_type": "text"
      },
      "source": [
        "<a href=\"https://colab.research.google.com/github/jimbounce/DeepLearningCourse/blob/main/Notebooks/Chap08/8_1_MNIST_1D_Performance.ipynb\" target=\"_parent\"><img src=\"https://colab.research.google.com/assets/colab-badge.svg\" alt=\"Open In Colab\"/></a>"
      ]
    },
    {
      "cell_type": "markdown",
      "source": [
        "# **Notebook 8.1: MNIST_1D_Performance**\n",
        "\n",
        "This notebook runs a simple neural network on the MNIST1D dataset as in figure 8.2a. It uses code from https://github.com/greydanus/mnist1d to generate the data.\n",
        "\n",
        "Work through the cells below, running each cell in turn. In various places you will see the words \"TO DO\". Follow the instructions at these places and make predictions about what is going to happen or write code to complete the functions.\n",
        "\n",
        "Contact me at udlbookmail@gmail.com if you find any mistakes or have any suggestions."
      ],
      "metadata": {
        "id": "L6chybAVFJW2"
      }
    },
    {
      "cell_type": "code",
      "source": [
        "# Run this if you're in a Colab to make a local copy of the MNIST 1D repository\n",
        "!git clone https://github.com/greydanus/mnist1d"
      ],
      "metadata": {
        "id": "ifVjS4cTOqKz",
        "outputId": "25207314-83e6-427e-bf4b-eac7bbdb38f4",
        "colab": {
          "base_uri": "https://localhost:8080/"
        }
      },
      "execution_count": 4,
      "outputs": [
        {
          "output_type": "stream",
          "name": "stdout",
          "text": [
            "fatal: destination path 'mnist1d' already exists and is not an empty directory.\n"
          ]
        }
      ]
    },
    {
      "cell_type": "code",
      "source": [
        "import torch, torch.nn as nn\n",
        "from torch.utils.data import TensorDataset, DataLoader\n",
        "from torch.optim.lr_scheduler import StepLR\n",
        "import numpy as np\n",
        "import matplotlib.pyplot as plt\n",
        "import mnist1d"
      ],
      "metadata": {
        "id": "qyE7G1StPIqO"
      },
      "execution_count": 5,
      "outputs": []
    },
    {
      "cell_type": "markdown",
      "source": [
        "Let's generate a training and test dataset using the MNIST1D code.  The dataset gets saved as a .pkl file so it doesn't have to be regenerated each time."
      ],
      "metadata": {
        "id": "F7LNq72SP6jO"
      }
    },
    {
      "cell_type": "code",
      "source": [
        "args = mnist1d.data.get_dataset_args()\n",
        "data = mnist1d.data.get_dataset(args, path='./mnist1d_data.pkl', download=False, regenerate=False)\n",
        "\n",
        "# The training and test input and outputs are in\n",
        "# data['x'], data['y'], data['x_test'], and data['y_test']\n",
        "print(\"Examples in training set: {}\".format(len(data['y'])))\n",
        "print(\"Examples in test set: {}\".format(len(data['y_test'])))\n",
        "print(\"Length of each example: {}\".format(data['x'].shape[-1]))"
      ],
      "metadata": {
        "id": "YLxf7dJfPaqw",
        "outputId": "42bfcb5e-b8bd-4a49-8af7-e6dcb143dea2",
        "colab": {
          "base_uri": "https://localhost:8080/"
        }
      },
      "execution_count": 6,
      "outputs": [
        {
          "output_type": "stream",
          "name": "stdout",
          "text": [
            "Successfully loaded data from ./mnist1d_data.pkl\n",
            "Examples in training set: 4000\n",
            "Examples in test set: 1000\n",
            "Length of each example: 40\n"
          ]
        }
      ]
    },
    {
      "cell_type": "code",
      "source": [
        "D_i = 40    # Input dimensions\n",
        "D_k = 100   # Hidden (unit) dimensions\n",
        "D_o = 10    # Output dimensions\n",
        "\n",
        "# TO DO:\n",
        "# Define a model with two hidden layers of size 100\n",
        "# And ReLU activations between them\n",
        "# Replace this line (see Figure 7.8 of book for help):\n",
        "model = nn.Sequential(\n",
        "  nn.Linear(D_i, D_k),\n",
        "  nn.ReLU(),\n",
        "  nn.Linear(D_k, D_k),\n",
        "  nn.ReLU(),\n",
        "  nn.Linear(D_k, D_o))\n",
        "\n",
        "\n",
        "def weights_init(layer_in):\n",
        "  # TO DO:\n",
        "  # Initialize the parameters with He initialization\n",
        "  # Replace this line (see figure 7.8 of book for help)\n",
        "\n",
        "  if isinstance(layer_in, nn.Linear):\n",
        "    nn.init.kaiming_uniform(layer_in.weight)\n",
        "    layer_in.bias.data.fill_(0.0)\n",
        "\n",
        "\n",
        "# Call the function you just defined\n",
        "model.apply(weights_init)\n"
      ],
      "metadata": {
        "id": "FxaB5vc0uevl",
        "outputId": "516cf071-6d78-4b94-a396-e40b3c44ec0b",
        "colab": {
          "base_uri": "https://localhost:8080/"
        }
      },
      "execution_count": 8,
      "outputs": [
        {
          "output_type": "stream",
          "name": "stderr",
          "text": [
            "<ipython-input-8-1ea6e1e14527>:23: UserWarning: nn.init.kaiming_uniform is now deprecated in favor of nn.init.kaiming_uniform_.\n",
            "  nn.init.kaiming_uniform(layer_in.weight)\n"
          ]
        },
        {
          "output_type": "execute_result",
          "data": {
            "text/plain": [
              "Sequential(\n",
              "  (0): Linear(in_features=40, out_features=100, bias=True)\n",
              "  (1): ReLU()\n",
              "  (2): Linear(in_features=100, out_features=100, bias=True)\n",
              "  (3): ReLU()\n",
              "  (4): Linear(in_features=100, out_features=10, bias=True)\n",
              ")"
            ]
          },
          "metadata": {},
          "execution_count": 8
        }
      ]
    },
    {
      "cell_type": "code",
      "source": [
        "# choose cross entropy loss function (equation 5.24)\n",
        "loss_function = torch.nn.CrossEntropyLoss()\n",
        "# construct SGD optimizer and initialize learning rate and momentum\n",
        "optimizer = torch.optim.SGD(model.parameters(), lr = 0.05, momentum=0.9)\n",
        "# create an object that decreases learning rate by half every 10 epochs\n",
        "scheduler = StepLR(optimizer, step_size=10, gamma=0.5)\n",
        "# create 100 dummy data points and store in data loader class\n",
        "x_train = torch.tensor(data['x'].astype('float32'))\n",
        "y_train = torch.tensor(data['y'].transpose().astype('long'))\n",
        "x_test= torch.tensor(data['x_test'].astype('float32'))\n",
        "y_test = torch.tensor(data['y_test'].astype('long'))\n",
        "\n",
        "# load the data into a class that creates the batches\n",
        "data_loader = DataLoader(TensorDataset(x_train,y_train), batch_size=100, shuffle=True, worker_init_fn=np.random.seed(1))\n",
        "\n",
        "# Initialize model weights\n",
        "model.apply(weights_init)\n",
        "\n",
        "# loop over the dataset n_epoch times\n",
        "n_epoch = 50\n",
        "# store the loss and the % correct at each epoch\n",
        "losses_train = np.zeros((n_epoch))\n",
        "errors_train = np.zeros((n_epoch))\n",
        "losses_test = np.zeros((n_epoch))\n",
        "errors_test = np.zeros((n_epoch))\n",
        "\n",
        "for epoch in range(n_epoch):\n",
        "  # loop over batches\n",
        "  for i, batch in enumerate(data_loader):\n",
        "    # retrieve inputs and labels for this batch\n",
        "    x_batch, y_batch = batch\n",
        "    # zero the parameter gradients\n",
        "    optimizer.zero_grad()\n",
        "    # forward pass -- calculate model output\n",
        "    pred = model(x_batch)\n",
        "    # compute the loss\n",
        "    loss = loss_function(pred, y_batch)\n",
        "    # backward pass\n",
        "    loss.backward()\n",
        "    # SGD update\n",
        "    optimizer.step()\n",
        "\n",
        "  # Run whole dataset to get statistics -- normally wouldn't do this (b/c it'd be frickin' huge!)\n",
        "  pred_train = model(x_train)\n",
        "  pred_test = model(x_test)\n",
        "  _, predicted_train_class = torch.max(pred_train.data, 1)\n",
        "  _, predicted_test_class = torch.max(pred_test.data, 1)\n",
        "  errors_train[epoch] = 100 - 100 * (predicted_train_class == y_train).float().sum() / len(y_train)\n",
        "  errors_test[epoch]= 100 - 100 * (predicted_test_class == y_test).float().sum() / len(y_test)\n",
        "  losses_train[epoch] = loss_function(pred_train, y_train).item()\n",
        "  losses_test[epoch]= loss_function(pred_test, y_test).item()\n",
        "  print(f'Epoch {epoch:5d}, train loss {losses_train[epoch]:.6f}, train error {errors_train[epoch]:3.2f},  test loss {losses_test[epoch]:.6f}, test error {errors_test[epoch]:3.2f}')\n",
        "\n",
        "  # tell scheduler to consider updating learning rate\n",
        "  scheduler.step()"
      ],
      "metadata": {
        "id": "_rX6N3VyyQTY",
        "outputId": "a7347b61-da4b-464a-c687-865f94ca0c72",
        "colab": {
          "base_uri": "https://localhost:8080/"
        }
      },
      "execution_count": 9,
      "outputs": [
        {
          "output_type": "stream",
          "name": "stderr",
          "text": [
            "<ipython-input-8-1ea6e1e14527>:23: UserWarning: nn.init.kaiming_uniform is now deprecated in favor of nn.init.kaiming_uniform_.\n",
            "  nn.init.kaiming_uniform(layer_in.weight)\n"
          ]
        },
        {
          "output_type": "stream",
          "name": "stdout",
          "text": [
            "Epoch     0, train loss 1.590863, train error 60.20,  test loss 1.629149, test error 65.00\n",
            "Epoch     1, train loss 1.298296, train error 47.97,  test loss 1.423934, test error 56.40\n",
            "Epoch     2, train loss 1.098441, train error 39.72,  test loss 1.254069, test error 48.20\n",
            "Epoch     3, train loss 0.964417, train error 33.53,  test loss 1.170275, test error 44.80\n",
            "Epoch     4, train loss 0.840682, train error 28.85,  test loss 1.116226, test error 43.20\n",
            "Epoch     5, train loss 0.757840, train error 26.78,  test loss 1.094795, test error 42.50\n",
            "Epoch     6, train loss 0.730987, train error 26.90,  test loss 1.128706, test error 45.30\n",
            "Epoch     7, train loss 0.614278, train error 20.53,  test loss 1.050694, test error 40.10\n",
            "Epoch     8, train loss 0.567142, train error 18.65,  test loss 1.080832, test error 38.90\n",
            "Epoch     9, train loss 0.501616, train error 16.90,  test loss 1.077954, test error 39.20\n",
            "Epoch    10, train loss 0.411108, train error 11.55,  test loss 1.047217, test error 39.10\n",
            "Epoch    11, train loss 0.386859, train error 11.47,  test loss 1.056937, test error 38.60\n",
            "Epoch    12, train loss 0.349397, train error 9.38,  test loss 1.094318, test error 38.30\n",
            "Epoch    13, train loss 0.315941, train error 8.35,  test loss 1.090180, test error 38.70\n",
            "Epoch    14, train loss 0.293935, train error 7.25,  test loss 1.122233, test error 38.80\n",
            "Epoch    15, train loss 0.268297, train error 7.15,  test loss 1.099295, test error 37.80\n",
            "Epoch    16, train loss 0.251668, train error 6.53,  test loss 1.121014, test error 37.90\n",
            "Epoch    17, train loss 0.229861, train error 5.32,  test loss 1.133769, test error 38.90\n",
            "Epoch    18, train loss 0.207044, train error 4.47,  test loss 1.152588, test error 37.90\n",
            "Epoch    19, train loss 0.197723, train error 4.12,  test loss 1.205292, test error 38.40\n",
            "Epoch    20, train loss 0.160797, train error 2.22,  test loss 1.164851, test error 37.60\n",
            "Epoch    21, train loss 0.149372, train error 1.68,  test loss 1.163236, test error 36.20\n",
            "Epoch    22, train loss 0.143421, train error 1.47,  test loss 1.176305, test error 36.60\n",
            "Epoch    23, train loss 0.140133, train error 1.45,  test loss 1.195715, test error 37.70\n",
            "Epoch    24, train loss 0.129605, train error 1.15,  test loss 1.206453, test error 36.10\n",
            "Epoch    25, train loss 0.122834, train error 1.18,  test loss 1.214827, test error 36.90\n",
            "Epoch    26, train loss 0.118460, train error 0.90,  test loss 1.232247, test error 36.40\n",
            "Epoch    27, train loss 0.110921, train error 0.72,  test loss 1.231109, test error 36.70\n",
            "Epoch    28, train loss 0.107055, train error 0.68,  test loss 1.239200, test error 37.00\n",
            "Epoch    29, train loss 0.100465, train error 0.68,  test loss 1.271196, test error 37.40\n",
            "Epoch    30, train loss 0.095994, train error 0.53,  test loss 1.270280, test error 37.30\n",
            "Epoch    31, train loss 0.093436, train error 0.45,  test loss 1.275504, test error 37.10\n",
            "Epoch    32, train loss 0.091576, train error 0.30,  test loss 1.280792, test error 37.00\n",
            "Epoch    33, train loss 0.088847, train error 0.22,  test loss 1.285354, test error 37.10\n",
            "Epoch    34, train loss 0.086826, train error 0.25,  test loss 1.281942, test error 36.70\n",
            "Epoch    35, train loss 0.084806, train error 0.22,  test loss 1.291108, test error 36.70\n",
            "Epoch    36, train loss 0.082829, train error 0.22,  test loss 1.304945, test error 36.70\n",
            "Epoch    37, train loss 0.080993, train error 0.20,  test loss 1.308246, test error 37.40\n",
            "Epoch    38, train loss 0.079494, train error 0.15,  test loss 1.312318, test error 36.80\n",
            "Epoch    39, train loss 0.077873, train error 0.10,  test loss 1.314487, test error 37.30\n",
            "Epoch    40, train loss 0.076182, train error 0.12,  test loss 1.315187, test error 37.00\n",
            "Epoch    41, train loss 0.075392, train error 0.12,  test loss 1.320835, test error 37.40\n",
            "Epoch    42, train loss 0.074490, train error 0.07,  test loss 1.322336, test error 37.00\n",
            "Epoch    43, train loss 0.074132, train error 0.07,  test loss 1.325837, test error 37.10\n",
            "Epoch    44, train loss 0.072874, train error 0.10,  test loss 1.328892, test error 37.30\n",
            "Epoch    45, train loss 0.072157, train error 0.05,  test loss 1.331715, test error 37.40\n",
            "Epoch    46, train loss 0.071664, train error 0.07,  test loss 1.333346, test error 37.00\n",
            "Epoch    47, train loss 0.070835, train error 0.10,  test loss 1.338455, test error 37.20\n",
            "Epoch    48, train loss 0.069920, train error 0.07,  test loss 1.338650, test error 37.10\n",
            "Epoch    49, train loss 0.069236, train error 0.05,  test loss 1.339918, test error 37.40\n"
          ]
        }
      ]
    },
    {
      "cell_type": "code",
      "source": [
        "# Plot the results\n",
        "fig, ax = plt.subplots()\n",
        "ax.plot(errors_train,'r-',label='train')\n",
        "ax.plot(errors_test,'b-',label='test')\n",
        "ax.set_ylim(0,100); ax.set_xlim(0,n_epoch)\n",
        "ax.set_xlabel('Epoch'); ax.set_ylabel('Error')\n",
        "ax.set_title('TrainError %3.2f, Test Error %3.2f'%(errors_train[-1],errors_test[-1]))\n",
        "ax.legend()\n",
        "plt.show()\n",
        "\n",
        "# Plot the results\n",
        "fig, ax = plt.subplots()\n",
        "ax.plot(losses_train,'r-',label='train')\n",
        "ax.plot(losses_test,'b-',label='test')\n",
        "ax.set_xlim(0,n_epoch)\n",
        "ax.set_xlabel('Epoch'); ax.set_ylabel('Loss')\n",
        "ax.set_title('Train loss %3.2f, Test loss %3.2f'%(losses_train[-1],losses_test[-1]))\n",
        "ax.legend()\n",
        "plt.show()"
      ],
      "metadata": {
        "id": "yI-l6kA_EH9G"
      },
      "execution_count": null,
      "outputs": []
    },
    {
      "cell_type": "markdown",
      "source": [
        "**TO DO**\n",
        "\n",
        "Play with the model -- try changing the number of layers, hidden units, learning rate, batch size, momentum or anything else you like.  See if you can improve the test results.\n",
        "\n",
        "Is it a good idea to optimize the hyperparameters in this way?  Will the final result be a good estimate of the true test performance?"
      ],
      "metadata": {
        "id": "q-yT6re6GZS4"
      }
    }
  ]
}