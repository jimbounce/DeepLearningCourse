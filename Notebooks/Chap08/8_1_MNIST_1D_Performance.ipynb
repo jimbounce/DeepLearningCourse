{
  "nbformat": 4,
  "nbformat_minor": 0,
  "metadata": {
    "colab": {
      "provenance": [],
      "gpuType": "T4",
      "include_colab_link": true
    },
    "kernelspec": {
      "name": "python3",
      "display_name": "Python 3"
    },
    "language_info": {
      "name": "python"
    },
    "accelerator": "GPU"
  },
  "cells": [
    {
      "cell_type": "markdown",
      "metadata": {
        "id": "view-in-github",
        "colab_type": "text"
      },
      "source": [
        "<a href=\"https://colab.research.google.com/github/jimbounce/DeepLearningCourse/blob/main/Notebooks/Chap08/8_1_MNIST_1D_Performance.ipynb\" target=\"_parent\"><img src=\"https://colab.research.google.com/assets/colab-badge.svg\" alt=\"Open In Colab\"/></a>"
      ]
    },
    {
      "cell_type": "markdown",
      "source": [
        "# **Notebook 8.1: MNIST_1D_Performance**\n",
        "\n",
        "This notebook runs a simple neural network on the MNIST1D dataset as in figure 8.2a. It uses code from https://github.com/greydanus/mnist1d to generate the data.\n",
        "\n",
        "Work through the cells below, running each cell in turn. In various places you will see the words \"TO DO\". Follow the instructions at these places and make predictions about what is going to happen or write code to complete the functions.\n",
        "\n",
        "Contact me at udlbookmail@gmail.com if you find any mistakes or have any suggestions."
      ],
      "metadata": {
        "id": "L6chybAVFJW2"
      }
    },
    {
      "cell_type": "code",
      "source": [
        "# Run this if you're in a Colab to make a local copy of the MNIST 1D repository\n",
        "!git clone https://github.com/greydanus/mnist1d"
      ],
      "metadata": {
        "id": "ifVjS4cTOqKz",
        "outputId": "0ff29ed2-e1d8-4a95-f952-720a12ef941e",
        "colab": {
          "base_uri": "https://localhost:8080/"
        }
      },
      "execution_count": 31,
      "outputs": [
        {
          "output_type": "stream",
          "name": "stdout",
          "text": [
            "fatal: destination path 'mnist1d' already exists and is not an empty directory.\n"
          ]
        }
      ]
    },
    {
      "cell_type": "code",
      "source": [
        "import torch, torch.nn as nn\n",
        "from torch.utils.data import TensorDataset, DataLoader\n",
        "from torch.optim.lr_scheduler import StepLR\n",
        "import numpy as np\n",
        "import matplotlib.pyplot as plt\n",
        "import mnist1d"
      ],
      "metadata": {
        "id": "qyE7G1StPIqO"
      },
      "execution_count": 32,
      "outputs": []
    },
    {
      "cell_type": "markdown",
      "source": [
        "Let's generate a training and test dataset using the MNIST1D code.  The dataset gets saved as a .pkl file so it doesn't have to be regenerated each time."
      ],
      "metadata": {
        "id": "F7LNq72SP6jO"
      }
    },
    {
      "cell_type": "code",
      "source": [
        "args = mnist1d.data.get_dataset_args()\n",
        "data = mnist1d.data.get_dataset(args, path='./mnist1d_data.pkl', download=False, regenerate=False)\n",
        "\n",
        "# The training and test input and outputs are in\n",
        "# data['x'], data['y'], data['x_test'], and data['y_test']\n",
        "print(\"Examples in training set: {}\".format(len(data['y'])))\n",
        "print(\"Examples in test set: {}\".format(len(data['y_test'])))\n",
        "print(\"Length of each example: {}\".format(data['x'].shape[-1]))"
      ],
      "metadata": {
        "id": "YLxf7dJfPaqw",
        "outputId": "ae0699c2-cca2-417a-da1c-734a3fb4122e",
        "colab": {
          "base_uri": "https://localhost:8080/"
        }
      },
      "execution_count": 33,
      "outputs": [
        {
          "output_type": "stream",
          "name": "stdout",
          "text": [
            "Successfully loaded data from ./mnist1d_data.pkl\n",
            "Examples in training set: 4000\n",
            "Examples in test set: 1000\n",
            "Length of each example: 40\n"
          ]
        }
      ]
    },
    {
      "cell_type": "code",
      "source": [
        "D_i = 40    # Input dimensions\n",
        "D_k = 1500   # Hidden (unit) dimensions (100 originally, njc)\n",
        "D_o = 10    # Output dimensions\n",
        "\n",
        "# TO DO:\n",
        "# Define a model with two hidden layers of size 100\n",
        "# And ReLU activations between them\n",
        "# Replace this line (see Figure 7.8 of book for help):\n",
        "model = nn.Sequential(\n",
        "  nn.Linear(D_i, D_k),\n",
        "  nn.ReLU(),\n",
        "  nn.Linear(D_k, D_k),\n",
        "  nn.ReLU(),\n",
        "  nn.Linear(D_k, D_k),\n",
        "  nn.ReLU(),\n",
        "  nn.Linear(D_k, D_k),\n",
        "  nn.ReLU(),\n",
        "\n",
        "  nn.Linear(D_k, D_o))\n",
        "\n",
        "\n",
        "def weights_init(layer_in):\n",
        "  # TO DO:\n",
        "  # Initialize the parameters with He initialization\n",
        "  # Replace this line (see figure 7.8 of book for help)\n",
        "\n",
        "  if isinstance(layer_in, nn.Linear):\n",
        "    nn.init.kaiming_uniform(layer_in.weight)\n",
        "    layer_in.bias.data.fill_(0.0)\n",
        "\n",
        "\n",
        "# Call the function you just defined\n",
        "model.apply(weights_init)\n"
      ],
      "metadata": {
        "id": "FxaB5vc0uevl",
        "outputId": "37e499d1-98c2-422d-cbb7-8a871604269f",
        "colab": {
          "base_uri": "https://localhost:8080/"
        }
      },
      "execution_count": 34,
      "outputs": [
        {
          "output_type": "stream",
          "name": "stderr",
          "text": [
            "<ipython-input-34-aa223cc3368a>:28: UserWarning: nn.init.kaiming_uniform is now deprecated in favor of nn.init.kaiming_uniform_.\n",
            "  nn.init.kaiming_uniform(layer_in.weight)\n"
          ]
        },
        {
          "output_type": "execute_result",
          "data": {
            "text/plain": [
              "Sequential(\n",
              "  (0): Linear(in_features=40, out_features=1500, bias=True)\n",
              "  (1): ReLU()\n",
              "  (2): Linear(in_features=1500, out_features=1500, bias=True)\n",
              "  (3): ReLU()\n",
              "  (4): Linear(in_features=1500, out_features=1500, bias=True)\n",
              "  (5): ReLU()\n",
              "  (6): Linear(in_features=1500, out_features=1500, bias=True)\n",
              "  (7): ReLU()\n",
              "  (8): Linear(in_features=1500, out_features=10, bias=True)\n",
              ")"
            ]
          },
          "metadata": {},
          "execution_count": 34
        }
      ]
    },
    {
      "cell_type": "markdown",
      "source": [
        "**njc: could try mean squared error, and categorical cross entropy loss functions too **\n"
      ],
      "metadata": {
        "id": "-LFyLFNQf-3T"
      }
    },
    {
      "cell_type": "code",
      "source": [
        "# choose cross entropy loss function (equation 5.24)\n",
        "loss_function = torch.nn.CrossEntropyLoss()\n",
        "# construct SGD optimizer and initialize learning rate and momentum\n",
        "optimizer = torch.optim.SGD(model.parameters(), lr = 0.1, momentum=0.9)\n",
        "# create an object that decreases learning rate by half every 10 epochs\n",
        "scheduler = StepLR(optimizer, step_size=10, gamma=0.1)\n",
        "# create 100 dummy data points and store in data loader class\n",
        "x_train = torch.tensor(data['x'].astype('float32'))\n",
        "y_train = torch.tensor(data['y'].transpose().astype('long'))\n",
        "x_test= torch.tensor(data['x_test'].astype('float32'))\n",
        "y_test = torch.tensor(data['y_test'].astype('long'))\n",
        "\n",
        "# load the data into a class that creates the batches\n",
        "data_loader = DataLoader(TensorDataset(x_train,y_train), batch_size=100, shuffle=True, worker_init_fn=np.random.seed(1))\n",
        "\n",
        "# Initialize model weights\n",
        "model.apply(weights_init)\n",
        "\n",
        "# loop over the dataset n_epoch times\n",
        "n_epoch = 50\n",
        "# store the loss and the % correct at each epoch\n",
        "losses_train = np.zeros((n_epoch))\n",
        "errors_train = np.zeros((n_epoch))\n",
        "losses_test = np.zeros((n_epoch))\n",
        "errors_test = np.zeros((n_epoch))\n",
        "\n",
        "for epoch in range(n_epoch):\n",
        "  # loop over batches\n",
        "  for i, batch in enumerate(data_loader):\n",
        "    # retrieve inputs and labels for this batch\n",
        "    x_batch, y_batch = batch\n",
        "    # zero the parameter gradients\n",
        "    optimizer.zero_grad()\n",
        "    # forward pass -- calculate model output\n",
        "    pred = model(x_batch)\n",
        "    # compute the loss\n",
        "    loss = loss_function(pred, y_batch)\n",
        "    # backward pass\n",
        "    loss.backward()\n",
        "    # SGD update\n",
        "    optimizer.step()\n",
        "\n",
        "  # Run whole dataset to get statistics -- normally wouldn't do this (b/c it'd be frickin' huge!)\n",
        "  pred_train = model(x_train)\n",
        "  pred_test = model(x_test)\n",
        "  _, predicted_train_class = torch.max(pred_train.data, 1)\n",
        "  _, predicted_test_class = torch.max(pred_test.data, 1)\n",
        "  errors_train[epoch] = 100 - 100 * (predicted_train_class == y_train).float().sum() / len(y_train)\n",
        "  errors_test[epoch]= 100 - 100 * (predicted_test_class == y_test).float().sum() / len(y_test)\n",
        "  losses_train[epoch] = loss_function(pred_train, y_train).item()\n",
        "  losses_test[epoch]= loss_function(pred_test, y_test).item()\n",
        "  print(f'Epoch {epoch:5d}, train loss {losses_train[epoch]:.6f}, train error {errors_train[epoch]:3.2f},  test loss {losses_test[epoch]:.6f}, test error {errors_test[epoch]:3.2f}')\n",
        "\n",
        "  # tell scheduler to consider updating learning rate\n",
        "  scheduler.step()"
      ],
      "metadata": {
        "id": "_rX6N3VyyQTY",
        "outputId": "fe703262-e414-4a38-d42c-38af9d686b77",
        "colab": {
          "base_uri": "https://localhost:8080/"
        }
      },
      "execution_count": 35,
      "outputs": [
        {
          "output_type": "stream",
          "name": "stderr",
          "text": [
            "<ipython-input-34-aa223cc3368a>:28: UserWarning: nn.init.kaiming_uniform is now deprecated in favor of nn.init.kaiming_uniform_.\n",
            "  nn.init.kaiming_uniform(layer_in.weight)\n"
          ]
        },
        {
          "output_type": "stream",
          "name": "stdout",
          "text": [
            "Epoch     0, train loss 1.569971, train error 61.92,  test loss 1.608634, test error 65.90\n",
            "Epoch     1, train loss 1.324466, train error 53.42,  test loss 1.440376, test error 61.30\n",
            "Epoch     2, train loss 1.219150, train error 45.47,  test loss 1.344346, test error 54.20\n",
            "Epoch     3, train loss 0.960375, train error 36.65,  test loss 1.241281, test error 48.20\n",
            "Epoch     4, train loss 0.914698, train error 33.75,  test loss 1.222534, test error 45.10\n",
            "Epoch     5, train loss 0.755975, train error 28.40,  test loss 1.225695, test error 40.60\n",
            "Epoch     6, train loss 0.613189, train error 22.82,  test loss 1.082590, test error 40.00\n",
            "Epoch     7, train loss 0.487479, train error 19.00,  test loss 1.024484, test error 33.30\n",
            "Epoch     8, train loss 0.474296, train error 17.72,  test loss 1.082936, test error 34.10\n",
            "Epoch     9, train loss 0.509901, train error 18.90,  test loss 1.253492, test error 36.40\n",
            "Epoch    10, train loss 0.195055, train error 5.35,  test loss 0.873073, test error 28.30\n",
            "Epoch    11, train loss 0.126273, train error 2.93,  test loss 0.870275, test error 26.70\n",
            "Epoch    12, train loss 0.093744, train error 2.05,  test loss 0.906220, test error 26.70\n",
            "Epoch    13, train loss 0.073562, train error 1.22,  test loss 0.939603, test error 26.60\n",
            "Epoch    14, train loss 0.060855, train error 1.00,  test loss 0.976364, test error 26.50\n",
            "Epoch    15, train loss 0.049870, train error 0.65,  test loss 1.004647, test error 26.30\n",
            "Epoch    16, train loss 0.040350, train error 0.38,  test loss 1.029652, test error 26.50\n",
            "Epoch    17, train loss 0.033807, train error 0.18,  test loss 1.058938, test error 26.70\n",
            "Epoch    18, train loss 0.028428, train error 0.18,  test loss 1.087538, test error 26.50\n",
            "Epoch    19, train loss 0.023885, train error 0.10,  test loss 1.109155, test error 26.50\n",
            "Epoch    20, train loss 0.023478, train error 0.10,  test loss 1.111144, test error 26.60\n",
            "Epoch    21, train loss 0.023090, train error 0.07,  test loss 1.113931, test error 26.50\n",
            "Epoch    22, train loss 0.022735, train error 0.07,  test loss 1.116101, test error 26.40\n",
            "Epoch    23, train loss 0.022392, train error 0.07,  test loss 1.118788, test error 26.30\n",
            "Epoch    24, train loss 0.022067, train error 0.07,  test loss 1.120905, test error 26.30\n",
            "Epoch    25, train loss 0.021741, train error 0.07,  test loss 1.123696, test error 26.50\n",
            "Epoch    26, train loss 0.021431, train error 0.07,  test loss 1.126057, test error 26.50\n",
            "Epoch    27, train loss 0.021132, train error 0.07,  test loss 1.128429, test error 26.50\n",
            "Epoch    28, train loss 0.020833, train error 0.07,  test loss 1.130995, test error 26.50\n",
            "Epoch    29, train loss 0.020539, train error 0.07,  test loss 1.133157, test error 26.40\n",
            "Epoch    30, train loss 0.020509, train error 0.07,  test loss 1.133394, test error 26.40\n",
            "Epoch    31, train loss 0.020481, train error 0.07,  test loss 1.133636, test error 26.40\n",
            "Epoch    32, train loss 0.020452, train error 0.07,  test loss 1.133913, test error 26.40\n",
            "Epoch    33, train loss 0.020424, train error 0.07,  test loss 1.134123, test error 26.40\n",
            "Epoch    34, train loss 0.020395, train error 0.07,  test loss 1.134363, test error 26.40\n",
            "Epoch    35, train loss 0.020367, train error 0.07,  test loss 1.134554, test error 26.40\n",
            "Epoch    36, train loss 0.020338, train error 0.07,  test loss 1.134840, test error 26.40\n",
            "Epoch    37, train loss 0.020310, train error 0.07,  test loss 1.135050, test error 26.40\n",
            "Epoch    38, train loss 0.020281, train error 0.07,  test loss 1.135329, test error 26.40\n",
            "Epoch    39, train loss 0.020254, train error 0.07,  test loss 1.135517, test error 26.40\n",
            "Epoch    40, train loss 0.020251, train error 0.07,  test loss 1.135550, test error 26.40\n",
            "Epoch    41, train loss 0.020248, train error 0.07,  test loss 1.135568, test error 26.40\n",
            "Epoch    42, train loss 0.020245, train error 0.07,  test loss 1.135591, test error 26.40\n",
            "Epoch    43, train loss 0.020243, train error 0.07,  test loss 1.135613, test error 26.40\n",
            "Epoch    44, train loss 0.020240, train error 0.07,  test loss 1.135642, test error 26.40\n",
            "Epoch    45, train loss 0.020237, train error 0.07,  test loss 1.135660, test error 26.40\n",
            "Epoch    46, train loss 0.020235, train error 0.07,  test loss 1.135684, test error 26.40\n",
            "Epoch    47, train loss 0.020232, train error 0.07,  test loss 1.135709, test error 26.40\n",
            "Epoch    48, train loss 0.020229, train error 0.07,  test loss 1.135731, test error 26.40\n",
            "Epoch    49, train loss 0.020226, train error 0.07,  test loss 1.135751, test error 26.40\n"
          ]
        }
      ]
    },
    {
      "cell_type": "code",
      "source": [
        "# Plot the results\n",
        "fig, ax = plt.subplots()\n",
        "ax.plot(errors_train,'r-',label='train')\n",
        "ax.plot(errors_test,'b-',label='test')\n",
        "ax.set_ylim(0,100); ax.set_xlim(0,n_epoch)\n",
        "ax.set_xlabel('Epoch'); ax.set_ylabel('Error')\n",
        "ax.set_title('TrainError %3.2f, Test Error %3.2f'%(errors_train[-1],errors_test[-1]))\n",
        "ax.legend()\n",
        "plt.show()\n",
        "\n",
        "# Plot the results\n",
        "fig, ax = plt.subplots()\n",
        "ax.plot(losses_train,'r-',label='train')\n",
        "ax.plot(losses_test,'b-',label='test')\n",
        "ax.set_xlim(0,n_epoch)\n",
        "ax.set_xlabel('Epoch'); ax.set_ylabel('Loss')\n",
        "ax.set_title('Train loss %3.2f, Test loss %3.2f'%(losses_train[-1],losses_test[-1]))\n",
        "ax.legend()\n",
        "plt.show()"
      ],
      "metadata": {
        "id": "yI-l6kA_EH9G",
        "outputId": "79daaf0d-8d01-4200-e9d7-25e61c1ae3a6",
        "colab": {
          "base_uri": "https://localhost:8080/",
          "height": 927
        }
      },
      "execution_count": 36,
      "outputs": [
        {
          "output_type": "display_data",
          "data": {
            "text/plain": [
              "<Figure size 640x480 with 1 Axes>"
            ],
            "image/png": "[encoded data removed]"
          },
          "metadata": {}
        },
        {
          "output_type": "display_data",
          "data": {
            "text/plain": [
              "<Figure size 640x480 with 1 Axes>"
            ],
            "image/png": "[encoded data removed]"
          },
          "metadata": {}
        }
      ]
    },
    {
      "cell_type": "markdown",
      "source": [
        "**TO DO**\n",
        "\n",
        "Play with the model -- try changing the number of layers, hidden units, learning rate, batch size, momentum or anything else you like.  See if you can improve the test results.\n",
        "\n",
        "Is it a good idea to optimize the hyperparameters in this way?  Will the final result be a good estimate of the true test performance?"
      ],
      "metadata": {
        "id": "q-yT6re6GZS4"
      }
    }
  ]
}