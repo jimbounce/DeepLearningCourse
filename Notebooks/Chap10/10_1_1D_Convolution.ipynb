{
  "nbformat": 4,
  "nbformat_minor": 0,
  "metadata": {
    "colab": {
      "provenance": [],
      "include_colab_link": true
    },
    "kernelspec": {
      "name": "python3",
      "display_name": "Python 3"
    },
    "language_info": {
      "name": "python"
    }
  },
  "cells": [
    {
      "cell_type": "markdown",
      "metadata": {
        "id": "view-in-github",
        "colab_type": "text"
      },
      "source": [
        "<a href=\"https://colab.research.google.com/github/jimbounce/DeepLearningCourse/blob/main/Notebooks/Chap10/10_1_1D_Convolution.ipynb\" target=\"_parent\"><img src=\"https://colab.research.google.com/assets/colab-badge.svg\" alt=\"Open In Colab\"/></a>"
      ]
    },
    {
      "cell_type": "markdown",
      "source": [
        "# **Notebook 10.1: 1D Convolution**\n",
        "\n",
        "This notebook investigates 1D convolutional layers.\n",
        "\n",
        "Work through the cells below, running each cell in turn. In various places you will see the words \"TO DO\". Follow the instructions at these places and make predictions about what is going to happen or write code to complete the functions.\n",
        "\n",
        "Contact me at udlbookmail@gmail.com if you find any mistakes or have any suggestions.\n"
      ],
      "metadata": {
        "id": "el8l05WQEO46"
      }
    },
    {
      "cell_type": "code",
      "source": [
        "import numpy as np\n",
        "import matplotlib.pyplot as plt"
      ],
      "metadata": {
        "id": "nw7k5yCtOzoK"
      },
      "execution_count": 1,
      "outputs": []
    },
    {
      "cell_type": "code",
      "source": [
        "# Define a signal that we can apply convolution to\n",
        "x = [5.2, 5.3, 5.4, 5.1, 10.1, 10.3, 9.9, 10.3, 3.2, 3.4, 3.3, 3.1]"
      ],
      "metadata": {
        "id": "lSSHuoEqO3Ly"
      },
      "execution_count": 2,
      "outputs": []
    },
    {
      "cell_type": "code",
      "source": [
        "# Draw the signal\n",
        "fig,ax = plt.subplots()\n",
        "ax.plot(x, 'b-')\n",
        "ax.set_xlim(0,11)\n",
        "ax.set_ylim(0, 12)\n",
        "plt.show()"
      ],
      "metadata": {
        "id": "zVssv_wiREc2",
        "colab": {
          "base_uri": "https://localhost:8080/",
          "height": 435
        },
        "outputId": "e944437d-d253-47cb-ba69-21532bd5c123"
      },
      "execution_count": 3,
      "outputs": [
        {
          "output_type": "display_data",
          "data": {
            "text/plain": [
              "<Figure size 640x480 with 1 Axes>"
            ],
            "image/png": "[encoded data removed]"
          },
          "metadata": {}
        }
      ]
    },
    {
      "cell_type": "code",
      "source": [
        "# Now let's define a zero-padded convolution operation\n",
        "# with a convolution kernel size of 3, a stride of 1, and a dilation of 1\n",
        "# as in figure 10.2a-c.  Write it yourself, don't call a library routine!\n",
        "# Don't forget that Python arrays are indexed from zero, not from 1 as in the book figures\n",
        "\n",
        "\n",
        "def conv_3_1_1_zp(x_in, omega):\n",
        "  # Set the padding size\n",
        "  padding = 1\n",
        "\n",
        "  # Create a padded input array\n",
        "\n",
        "  # The \"[0] *\" initialises all the values to zeros\n",
        "  x_padded = [0] * (len(x_in) + (2 * padding))\n",
        "  print(\"x_padded_initialised = \", x_padded)\n",
        "  for i, x in enumerate(x_in): # The enumerate() function is used to obtain both the index i and the value x of each element in x_in.\n",
        "    x_padded[i + padding] = x\n",
        "    print(i, x, x_padded)\n",
        "  # Perform the convolution\n",
        "  x_out = [0] * len(x_in)\n",
        "  for i in range(len(x_in)):\n",
        "    for j in range(len(omega)):\n",
        "      x_out[i] += omega[j] * x_padded[i+j]\n",
        "      # print(\"\")\n",
        "      # print(\"i\",i)\n",
        "      # print(\"j\",j)\n",
        "      # print(\"x_out[i]\",x_out[i])\n",
        "      # print(\"omega[j]\",omega[j])\n",
        "      # print(\"x_padded[i+j]\",x_padded[i+j])\n",
        "      # print(\"x_out\", x_out)\n",
        "\n",
        "  return x_out"
      ],
      "metadata": {
        "id": "MmfXED12RvNq"
      },
      "execution_count": 26,
      "outputs": []
    },
    {
      "cell_type": "markdown",
      "source": [
        "Now let's see what kind of things convolution can do\n",
        "First, it can average nearby values, smoothing the function:"
      ],
      "metadata": {
        "id": "Fof_Rs98Zovq"
      }
    },
    {
      "cell_type": "code",
      "source": [
        "\n",
        "omega = [0.33,0.33,0.33]\n",
        "h = conv_3_1_1_zp(x, omega)\n",
        "\n",
        "# Check that you have computed this correctly\n",
        "print(f\"Sum of output is {np.sum(h):3.3}, should be 71.1\")\n",
        "\n",
        "# Draw the signal\n",
        "fig,ax = plt.subplots()\n",
        "ax.plot(x, 'k-',label='before')\n",
        "ax.plot(h, 'r-',label='after')\n",
        "ax.set_xlim(0,11)\n",
        "ax.set_ylim(0, 12)\n",
        "ax.legend()\n",
        "plt.show()"
      ],
      "metadata": {
        "id": "HOcPZR6iWXsa"
      },
      "execution_count": null,
      "outputs": []
    },
    {
      "cell_type": "markdown",
      "source": [
        "Notice how the red function is a smoothed version of the black one as it has averaged adjacent values.  The first and last outputs are considerably lower than the original curve though.  Make sure that you understand why!<br><br>\n",
        "\n",
        "With different weights, the convolution can be used to find sharp changes in the function:"
      ],
      "metadata": {
        "id": "PBkNKUylZr-k"
      }
    },
    {
      "cell_type": "code",
      "source": [
        "\n",
        "omega = [-0.5,0,0.5]\n",
        "h2 = conv_3_1_1_zp(x, omega)\n",
        "\n",
        "# Draw the signal\n",
        "fig,ax = plt.subplots()\n",
        "ax.plot(x, 'k-',label='before')\n",
        "ax.plot(h2, 'r-',label='after')\n",
        "ax.set_xlim(0,11)\n",
        "# ax.set_ylim(0, 12)\n",
        "ax.legend()\n",
        "plt.show()"
      ],
      "metadata": {
        "id": "o8T5WKeuZrgS"
      },
      "execution_count": null,
      "outputs": []
    },
    {
      "cell_type": "markdown",
      "source": [
        "Notice that the convolution has a peak where the original function went up and trough where it went down.  It is roughly zero where the function is locally flat.  This convolution approximates a derivative. <br> <br>\n",
        "\n",
        "Now let's define the convolutions from figure 10.3.  "
      ],
      "metadata": {
        "id": "ogfCVThJgtPx"
      }
    },
    {
      "cell_type": "code",
      "source": [
        "# Now let's define a zero-padded convolution operation\n",
        "# with a convolution kernel size of 3, a stride of 2, and a dilation of 1\n",
        "# as in figure 10.3a-b.  Write it yourself, don't call a library routine!\n",
        "# stride = 2 means skips every other output value\n",
        "\n",
        "def conv_3_2_1_zp(x_in, omega):\n",
        "  # Set the padding size\n",
        "  padding = 1\n",
        "\n",
        "  # Create a padded input array\n",
        "  # The \"[0] *\" initialises all the values to zeros\n",
        "  x_padded = [0] * (len(x_in) + (2 * padding))\n",
        "  print(\"x_padded\", x_padded, len(x_in))\n",
        "\n",
        "  for i, x in enumerate(x_in): # The enumerate() function is used to obtain both the index i and the value x of each element in x_in.\n",
        "    x_padded[i + padding] = x\n",
        "    print(i, x, x_padded)\n",
        "\n",
        "  # Perform the convolution\n",
        "  x_out = [0] * (int(1+ len(x_in)*0.5)) # list of correct length but with all zeros\n",
        "  print(\"x_out\", x_out)\n",
        "  print(\"len(x_out)\", len(x_out), \"len(x_padded)\", len(x_padded))\n",
        "  for i in range(int(0.5*len(x_in))):\n",
        "    for j in range(len(omega)):\n",
        "      x_out[i] += omega[j] * x_padded[(2*i) + j] # deleted skipping one x-padded value at a time (as well as counting up in j's)\n",
        "      print(\"\")\n",
        "      print(\"i\",i)\n",
        "      print(\"j\",j)\n",
        "      print(\"x_out[i]\",x_out[i])\n",
        "      print(\"omega[j]\",omega[j])\n",
        "      print(\"x_padded[i+j]\",x_padded[i+j])\n",
        "      print(\"x_out\", x_out)\n",
        "\n",
        "  return x_out"
      ],
      "metadata": {
        "id": "5QYrQmFMiDBj"
      },
      "execution_count": 7,
      "outputs": []
    },
    {
      "cell_type": "code",
      "source": [
        "omega = [0.33,0.33,0.33]\n",
        "h3 = conv_3_2_1_zp(x, omega)\n",
        "\n",
        "# If you have done this right, the output length should be six and it should\n",
        "# contain every other value from the original convolution which had stride 1\n",
        "print(\"\\n\", \"original conv\", h)\n",
        "print(\"this conv\", h3)"
      ],
      "metadata": {
        "id": "CD96lnDHX72A"
      },
      "execution_count": null,
      "outputs": []
    },
    {
      "cell_type": "code",
      "source": [
        "# Now let's define a zero-padded convolution operation\n",
        "# with a convolution kernel size of 5, a stride of 1, and a dilation of 1\n",
        "# as in figure 10.3c.  Write it yourself, don't call a library routine!\n",
        "def conv_5_1_1_zp(x_in, omega):\n",
        "    # Set the padding size\n",
        "  padding = 1\n",
        "\n",
        "  # Create a padded input array\n",
        "  # The \"[0] *\" initialises all the values to zeros\n",
        "  x_padded = [0] * (len(x_in) + (2 * padding))\n",
        "  print(\"x_padded\", x_padded, len(x_in))\n",
        "\n",
        "  for i, x in enumerate(x_in): # The enumerate() function is used to obtain both the index i and the value x of each element in x_in.\n",
        "    x_padded[i + padding] = x\n",
        "    print(i, x, x_padded)\n",
        "\n",
        "  # Perform the convolution\n",
        "  x_out = [0] * (len(x_in)) # list of correct length but with all zeros\n",
        "  print(\"x_out\", x_out)\n",
        "  print(\"len(x_out)\", len(x_out), \"len(x_padded)\", len(x_padded))\n",
        "  for i in range(len(x_in)):\n",
        "    for j in range(len(omega)):\n",
        "      if i+j < len(x_padded):\n",
        "        x_out[i] = x_out[i] + (omega[j] * x_padded[i + j]) # deleted skipping one x-padded value at a time (as well as counting up in j's)\n",
        "      # print(\"\")\n",
        "      # print(\"i\",i)\n",
        "      # print(\"j\",j)\n",
        "      # print(\"x_out[i]\",x_out[i])\n",
        "      # print(\"omega[j]\",omega[j])\n",
        "      # #print(\"x_padded[i+j]\",x_padded[i+j])\n",
        "      # print(\"x_out\", x_out)\n",
        "\n",
        "  return x_out"
      ],
      "metadata": {
        "id": "lw46-gNUjDw7"
      },
      "execution_count": 22,
      "outputs": []
    },
    {
      "cell_type": "code",
      "source": [
        "\n",
        "omega2 = [0.2, 0.2, 0.2, 0.2, 0.2]\n",
        "h4 = conv_5_1_1_zp(x, omega2)\n",
        "\n",
        "# Check that you have computed this correctly\n",
        "print(f\"Sum of output is {np.sum(h4):3.3}, should be 69.6\")\n",
        "\n",
        "# Draw the signal\n",
        "fig,ax = plt.subplots()\n",
        "ax.plot(x, 'k-',label='before')\n",
        "ax.plot(h4, 'r-',label='after')\n",
        "ax.set_xlim(0,11)\n",
        "ax.set_ylim(0, 12)\n",
        "ax.legend()\n",
        "plt.show()"
      ],
      "metadata": {
        "id": "JkKBL-nFk4bf"
      },
      "execution_count": null,
      "outputs": []
    },
    {
      "cell_type": "code",
      "source": [
        "# Finally let's define a zero-padded convolution operation\n",
        "# with a convolution kernel size of 3, a stride of 1, and a dilation of 2\n",
        "# as in figure 10.3d.  Write it yourself, don't call a library routine!\n",
        "# Don't forget that Python arrays are indexed from zero, not from 1 as in the book figures\n",
        "def conv_3_1_2_zp(x_in, omega):\n",
        "    x_out = np.zeros_like(x_in)\n",
        "    # TODO -- write this function\n",
        "    # replace this line\n",
        "    x_out = x_out\n",
        "\n",
        "\n",
        "    return x_out"
      ],
      "metadata": {
        "id": "_aBcW46AljI0"
      },
      "execution_count": null,
      "outputs": []
    },
    {
      "cell_type": "code",
      "source": [
        "omega = [0.33,0.33,0.33]\n",
        "h5 = conv_3_1_2_zp(x, omega)\n",
        "\n",
        "# Check that you have computed this correctly\n",
        "print(f\"Sum of output is {np.sum(h5):3.3}, should be 68.3\")\n",
        "\n",
        "# Draw the signal\n",
        "fig,ax = plt.subplots()\n",
        "ax.plot(x, 'k-',label='before')\n",
        "ax.plot(h5, 'r-',label='after')\n",
        "ax.set_xlim(0,11)\n",
        "ax.set_ylim(0, 12)\n",
        "ax.legend()\n",
        "plt.show()"
      ],
      "metadata": {
        "id": "En-ByCqWlvMI"
      },
      "execution_count": null,
      "outputs": []
    },
    {
      "cell_type": "markdown",
      "source": [
        "Finally, let's investigate representing convolutions as full matrices, and show we get the same answer."
      ],
      "metadata": {
        "id": "loBwu125lXx1"
      }
    },
    {
      "cell_type": "code",
      "source": [
        "# Compute matrix in figure 10.4 d\n",
        "def get_conv_mat_3_1_1_zp(n_out, omega):\n",
        "  omega_mat = np.zeros((n_out,n_out)) # defining a blank 6 x6 matrix\n",
        "  for i in range(n_out): #rows\n",
        "    for j in range(n_out): #cols\n",
        "      #for k in len(omega): # each of the 3 omega values\n",
        "      if i == j:\n",
        "        omega_mat[i,j] = omega[1]\n",
        "      elif i == j-1:\n",
        "        omega_mat[i,j] = omega[2]\n",
        "      elif i == j+1:\n",
        "        omega_mat[i,j] = omega[0]\n",
        "  print(\"matrix is \", omega_mat)\n",
        "  return omega_mat"
      ],
      "metadata": {
        "id": "U2RFWfGgs72j"
      },
      "execution_count": 30,
      "outputs": []
    },
    {
      "cell_type": "code",
      "source": [
        "# Run original convolution\n",
        "omega = np.array([-1.0,0.5,-0.2])\n",
        "h6 = conv_3_1_1_zp(x, omega)\n",
        "print(h6)\n",
        "\n",
        "# If you have done this right, you should get the same answer\n",
        "omega_mat = get_conv_mat_3_1_1_zp(len(x), omega)\n",
        "h7 = np.matmul(omega_mat, x)\n",
        "print(h7)\n"
      ],
      "metadata": {
        "id": "20IYxku8lMty",
        "colab": {
          "base_uri": "https://localhost:8080/"
        },
        "outputId": "9ec9f1e0-50b7-4b7d-f560-ce5954db2e69"
      },
      "execution_count": 31,
      "outputs": [
        {
          "output_type": "stream",
          "name": "stdout",
          "text": [
            "x_padded_initialised =  [0, 0, 0, 0, 0, 0, 0, 0, 0, 0, 0, 0, 0, 0]\n",
            "0 5.2 [0, 5.2, 0, 0, 0, 0, 0, 0, 0, 0, 0, 0, 0, 0]\n",
            "1 5.3 [0, 5.2, 5.3, 0, 0, 0, 0, 0, 0, 0, 0, 0, 0, 0]\n",
            "2 5.4 [0, 5.2, 5.3, 5.4, 0, 0, 0, 0, 0, 0, 0, 0, 0, 0]\n",
            "3 5.1 [0, 5.2, 5.3, 5.4, 5.1, 0, 0, 0, 0, 0, 0, 0, 0, 0]\n",
            "4 10.1 [0, 5.2, 5.3, 5.4, 5.1, 10.1, 0, 0, 0, 0, 0, 0, 0, 0]\n",
            "5 10.3 [0, 5.2, 5.3, 5.4, 5.1, 10.1, 10.3, 0, 0, 0, 0, 0, 0, 0]\n",
            "6 9.9 [0, 5.2, 5.3, 5.4, 5.1, 10.1, 10.3, 9.9, 0, 0, 0, 0, 0, 0]\n",
            "7 10.3 [0, 5.2, 5.3, 5.4, 5.1, 10.1, 10.3, 9.9, 10.3, 0, 0, 0, 0, 0]\n",
            "8 3.2 [0, 5.2, 5.3, 5.4, 5.1, 10.1, 10.3, 9.9, 10.3, 3.2, 0, 0, 0, 0]\n",
            "9 3.4 [0, 5.2, 5.3, 5.4, 5.1, 10.1, 10.3, 9.9, 10.3, 3.2, 3.4, 0, 0, 0]\n",
            "10 3.3 [0, 5.2, 5.3, 5.4, 5.1, 10.1, 10.3, 9.9, 10.3, 3.2, 3.4, 3.3, 0, 0]\n",
            "11 3.1 [0, 5.2, 5.3, 5.4, 5.1, 10.1, 10.3, 9.9, 10.3, 3.2, 3.4, 3.3, 3.1, 0]\n",
            "[1.54, -3.6300000000000003, -3.6199999999999997, -4.870000000000001, -2.11, -6.93, -7.41, -5.390000000000001, -9.38, -2.16, -2.37, -1.7499999999999998]\n",
            "matrix is  [[ 0.5 -0.2  0.   0.   0.   0.   0.   0.   0.   0.   0.   0. ]\n",
            " [-1.   0.5 -0.2  0.   0.   0.   0.   0.   0.   0.   0.   0. ]\n",
            " [ 0.  -1.   0.5 -0.2  0.   0.   0.   0.   0.   0.   0.   0. ]\n",
            " [ 0.   0.  -1.   0.5 -0.2  0.   0.   0.   0.   0.   0.   0. ]\n",
            " [ 0.   0.   0.  -1.   0.5 -0.2  0.   0.   0.   0.   0.   0. ]\n",
            " [ 0.   0.   0.   0.  -1.   0.5 -0.2  0.   0.   0.   0.   0. ]\n",
            " [ 0.   0.   0.   0.   0.  -1.   0.5 -0.2  0.   0.   0.   0. ]\n",
            " [ 0.   0.   0.   0.   0.   0.  -1.   0.5 -0.2  0.   0.   0. ]\n",
            " [ 0.   0.   0.   0.   0.   0.   0.  -1.   0.5 -0.2  0.   0. ]\n",
            " [ 0.   0.   0.   0.   0.   0.   0.   0.  -1.   0.5 -0.2  0. ]\n",
            " [ 0.   0.   0.   0.   0.   0.   0.   0.   0.  -1.   0.5 -0.2]\n",
            " [ 0.   0.   0.   0.   0.   0.   0.   0.   0.   0.  -1.   0.5]]\n",
            "[ 1.54 -3.63 -3.62 -4.87 -2.11 -6.93 -7.41 -5.39 -9.38 -2.16 -2.37 -1.75]\n"
          ]
        }
      ]
    },
    {
      "cell_type": "markdown",
      "source": [
        "TODO:  What do you expect to happen if we apply the last convolution twice?  Can this be represented as a single convolution?  If so, then what is it?"
      ],
      "metadata": {
        "id": "rYoQVhBfu8R4"
      }
    }
  ]
}